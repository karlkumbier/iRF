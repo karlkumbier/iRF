{
 "cells": [
  {
   "cell_type": "markdown",
   "metadata": {},
   "source": [
    "# Individualized iRF for the enhancer data\n",
    "For a particular data unit, collect all the paths on which this particular unit falls and look for the intersections.\n"
   ]
  },
  {
   "cell_type": "markdown",
   "metadata": {},
   "source": [
    "### load packages"
   ]
  },
  {
   "cell_type": "code",
   "execution_count": 32,
   "metadata": {
    "collapsed": false
   },
   "outputs": [
    {
     "name": "stderr",
     "output_type": "stream",
     "text": [
      "Loading required package: mclust\n",
      "Package 'mclust' version 5.4\n",
      "Type 'citation(\"mclust\")' for citing this R package in publications.\n"
     ]
    }
   ],
   "source": [
    "require('iRF')\n",
    "require('dplyr')\n",
    "require('mclust')"
   ]
  },
  {
   "cell_type": "markdown",
   "metadata": {},
   "source": [
    "### load the data"
   ]
  },
  {
   "cell_type": "code",
   "execution_count": 3,
   "metadata": {
    "collapsed": true
   },
   "outputs": [],
   "source": [
    "load('./individual_enhancer.RData')\n",
    "load('./enhancer.Rdata')"
   ]
  },
  {
   "cell_type": "markdown",
   "metadata": {},
   "source": [
    "### set figure size"
   ]
  },
  {
   "cell_type": "code",
   "execution_count": 65,
   "metadata": {
    "collapsed": true
   },
   "outputs": [],
   "source": [
    "options(repr.plot.width = 4, repr.plot.height=4)"
   ]
  },
  {
   "cell_type": "markdown",
   "metadata": {},
   "source": [
    "### predefined functions "
   ]
  },
  {
   "cell_type": "code",
   "execution_count": 34,
   "metadata": {
    "collapsed": true
   },
   "outputs": [],
   "source": [
    "index2names <- function(strs, name.list) {\n",
    "    # change a integer string to meaningful names\n",
    "    #  for example, change \"45 64\" to \"Kr Twi\"\n",
    "    if (length(strs) > 0 && class(strs[0]) == 'factor') {\n",
    "        strs = as.character(strs)\n",
    "    }\n",
    "    return(strs %>% strsplit(' ') %>%\n",
    "    lapply(FUN = as.numeric) %>%\n",
    "    lapply(FUN = function(x) name.list[x]) %>%\n",
    "    sapply(FUN = function(x) paste(x, collapse = ' ')))\n",
    "}\n",
    "multi.modality.test <- function(data) {\n",
    "    # return the log.likelihood ratio between 2 Gaussian mixitures and 1 Gaussian\n",
    "    log.likelihood2 <- Mclust(data, G = 2, verbose = F)$loglik\n",
    "    log.likelihood1 <- Mclust(data, G = 1, verbose = F)$loglik\n",
    "    return(log.likelihood2 - log.likelihood1)\n",
    "}\n",
    "\n",
    "\n",
    "           \n",
    "           "
   ]
  },
  {
   "cell_type": "markdown",
   "metadata": {},
   "source": [
    "## Individualized iRF \n",
    "- For each sample, select all the RF paths that it falls into and transform them into boolean vectors showing what features are splitted.\n",
    "- Find their intersections with high prevalence.\n",
    "- Currently, the intersections are found using apriori (exact method) with prevalence larger than .1"
   ]
  },
  {
   "cell_type": "markdown",
   "metadata": {},
   "source": [
    "## Result analysis\n",
    "\n",
    "We can get the intersection for each data unit, the output is a data frame with two columns:"
   ]
  },
  {
   "cell_type": "code",
   "execution_count": 28,
   "metadata": {
    "collapsed": false,
    "scrolled": true
   },
   "outputs": [
    {
     "data": {
      "text/html": [
       "<table>\n",
       "<thead><tr><th></th><th scope=col>Interaction</th><th scope=col>Prevalence</th></tr></thead>\n",
       "<tbody>\n",
       "\t<tr><th scope=row>480</th><td>wt_ZLD bcd2 gt2 kr1 twi1 </td><td>0.110                    </td></tr>\n",
       "\t<tr><th scope=row>481</th><td>wt_ZLD bcd2 kr1 twi1 twi2</td><td>0.110                    </td></tr>\n",
       "\t<tr><th scope=row>482</th><td>bcd2 gt2 kr1 twi1 twi2   </td><td>0.130                    </td></tr>\n",
       "\t<tr><th scope=row>483</th><td>wt_ZLD bcd2 gt2 kr1 twi2 </td><td>0.126                    </td></tr>\n",
       "\t<tr><th scope=row>484</th><td>wt_ZLD bcd2 gt2 twi1 twi2</td><td>0.172                    </td></tr>\n",
       "\t<tr><th scope=row>485</th><td>wt_ZLD gt2 kr1 twi1 twi2 </td><td>0.166                    </td></tr>\n",
       "</tbody>\n",
       "</table>\n"
      ],
      "text/latex": [
       "\\begin{tabular}{r|ll}\n",
       "  & Interaction & Prevalence\\\\\n",
       "\\hline\n",
       "\t480 & wt\\_ZLD bcd2 gt2 kr1 twi1  & 0.110                      \\\\\n",
       "\t481 & wt\\_ZLD bcd2 kr1 twi1 twi2 & 0.110                      \\\\\n",
       "\t482 & bcd2 gt2 kr1 twi1 twi2    & 0.130                    \\\\\n",
       "\t483 & wt\\_ZLD bcd2 gt2 kr1 twi2  & 0.126                      \\\\\n",
       "\t484 & wt\\_ZLD bcd2 gt2 twi1 twi2 & 0.172                      \\\\\n",
       "\t485 & wt\\_ZLD gt2 kr1 twi1 twi2  & 0.166                      \\\\\n",
       "\\end{tabular}\n"
      ],
      "text/markdown": [
       "\n",
       "| <!--/--> | Interaction | Prevalence | \n",
       "|---|---|---|---|---|---|\n",
       "| 480 | wt_ZLD bcd2 gt2 kr1 twi1  | 0.110                     | \n",
       "| 481 | wt_ZLD bcd2 kr1 twi1 twi2 | 0.110                     | \n",
       "| 482 | bcd2 gt2 kr1 twi1 twi2    | 0.130                     | \n",
       "| 483 | wt_ZLD bcd2 gt2 kr1 twi2  | 0.126                     | \n",
       "| 484 | wt_ZLD bcd2 gt2 twi1 twi2 | 0.172                     | \n",
       "| 485 | wt_ZLD gt2 kr1 twi1 twi2  | 0.166                     | \n",
       "\n",
       "\n"
      ],
      "text/plain": [
       "    Interaction               Prevalence\n",
       "480 wt_ZLD bcd2 gt2 kr1 twi1  0.110     \n",
       "481 wt_ZLD bcd2 kr1 twi1 twi2 0.110     \n",
       "482 bcd2 gt2 kr1 twi1 twi2    0.130     \n",
       "483 wt_ZLD bcd2 gt2 kr1 twi2  0.126     \n",
       "484 wt_ZLD bcd2 gt2 twi1 twi2 0.172     \n",
       "485 wt_ZLD gt2 kr1 twi1 twi2  0.166     "
      ]
     },
     "metadata": {},
     "output_type": "display_data"
    }
   ],
   "source": [
    "out.list[[1]] %>% mutate(Interaction = index2names(Interaction, varnames.all[[1]])) %>% tail"
   ]
  },
  {
   "cell_type": "markdown",
   "metadata": {},
   "source": [
    "As we get the intersections for each data unit, we collect all the prevalences for each intersections and investigate into its distribution patterns."
   ]
  },
  {
   "cell_type": "code",
   "execution_count": null,
   "metadata": {
    "collapsed": true
   },
   "outputs": [],
   "source": [
    "interaction.freq = list()\n",
    "for (out in out.list) {\n",
    "  out$Interaction <- as.character(out$Interaction)\n",
    "  for (row.index in 1:nrow(out)) {\n",
    "    comb <- out$Interaction[row.index]\n",
    "    if (comb %in% names(interaction.freq)) {\n",
    "      interaction.freq[[comb]] = c(interaction.freq[[comb]], out$Prevalence[row.index])\n",
    "    } else {\n",
    "      interaction.freq[[comb]] = c(out$Prevalence[row.index])\n",
    "    }\n",
    "  }\n",
    "}"
   ]
  },
  {
   "cell_type": "code",
   "execution_count": 49,
   "metadata": {
    "collapsed": false
   },
   "outputs": [
    {
     "data": {
      "text/html": [
       "'The number of interactions is 3064'"
      ],
      "text/latex": [
       "'The number of interactions is 3064'"
      ],
      "text/markdown": [
       "'The number of interactions is 3064'"
      ],
      "text/plain": [
       "[1] \"The number of interactions is 3064\""
      ]
     },
     "metadata": {},
     "output_type": "display_data"
    }
   ],
   "source": [
    "sprintf('The number of interactions is %d', length(interaction.freq))"
   ]
  },
  {
   "cell_type": "markdown",
   "metadata": {},
   "source": [
    "### Interesting multi-modality pattern in 'wt_ZLD twi2'\n",
    "The histogram of 'wt_ZLD gt2 kr1' exhibits a clear two-modality pattern. It means for some samples this interaction is not that often while for some other samples this interaction becomes very important for classification."
   ]
  },
  {
   "cell_type": "code",
   "execution_count": 69,
   "metadata": {
    "collapsed": false
   },
   "outputs": [
    {
     "data": {
      "image/png": "[encoded data removed]",
      "text/plain": [
       "Plot with title “wt_ZLD gt2 kr1”"
      ]
     },
     "metadata": {},
     "output_type": "display_data"
    }
   ],
   "source": [
    "to_investigate = '46 54 64'\n",
    "hist(interaction.freq[[to_investigate]], main = index2names(to_investigate, varnames.all[[1]]))"
   ]
  },
  {
   "cell_type": "markdown",
   "metadata": {},
   "source": [
    "### investigate other interactions that has multi-modality\n",
    "Multi-modality is measured by a **likelihood ratio** between Gaussian with 2 mixuters and Gaussian with 1 mixiture."
   ]
  },
  {
   "cell_type": "markdown",
   "metadata": {},
   "source": [
    "tmp <- lapply(interaction.freq, function(x) multi.modality.test(x))"
   ]
  },
  {
   "cell_type": "code",
   "execution_count": null,
   "metadata": {
    "collapsed": true
   },
   "outputs": [],
   "source": [
    "# find the maximum value in tmp\n",
    "max(do.call('rbind', tmp), na.rm = T)"
   ]
  },
  {
   "cell_type": "code",
   "execution_count": 60,
   "metadata": {
    "collapsed": false
   },
   "outputs": [
    {
     "data": {
      "text/html": [
       "<table>\n",
       "<thead><tr><th scope=col>Interaction</th><th scope=col>Indices</th><th scope=col>Score</th></tr></thead>\n",
       "<tbody>\n",
       "\t<tr><td>wt_ZLD kr1     </td><td>46 64          </td><td>0.2030967      </td></tr>\n",
       "\t<tr><td>wt_ZLD twi2    </td><td>46 79          </td><td>0.2017701      </td></tr>\n",
       "\t<tr><td>wt_H3K4me1 twi2</td><td>45 79          </td><td>0.2002126      </td></tr>\n",
       "\t<tr><td>D1 twi2        </td><td>50 79          </td><td>0.1986016      </td></tr>\n",
       "\t<tr><td>D1 gt2         </td><td>50 54          </td><td>0.1945462      </td></tr>\n",
       "\t<tr><td>kr1 twi2       </td><td>64 79          </td><td>0.1939697      </td></tr>\n",
       "\t<tr><td>gt2 kr1 twi2   </td><td>54 64 79       </td><td>0.1928205      </td></tr>\n",
       "\t<tr><td>wt_ZLD gt2 kr1 </td><td>46 54 64       </td><td>0.1894278      </td></tr>\n",
       "\t<tr><td>wt_ZLD         </td><td>46             </td><td>0.1860757      </td></tr>\n",
       "\t<tr><td>gt2 kr1        </td><td>54 64          </td><td>0.1812387      </td></tr>\n",
       "\t<tr><td>wt_H3K4me1 gt2 </td><td>45 54          </td><td>0.1806286      </td></tr>\n",
       "</tbody>\n",
       "</table>\n"
      ],
      "text/latex": [
       "\\begin{tabular}{r|lll}\n",
       " Interaction & Indices & Score\\\\\n",
       "\\hline\n",
       "\t wt\\_ZLD kr1      & 46 64             & 0.2030967        \\\\\n",
       "\t wt\\_ZLD twi2     & 46 79             & 0.2017701        \\\\\n",
       "\t wt\\_H3K4me1 twi2 & 45 79             & 0.2002126        \\\\\n",
       "\t D1 twi2         & 50 79           & 0.1986016      \\\\\n",
       "\t D1 gt2          & 50 54           & 0.1945462      \\\\\n",
       "\t kr1 twi2        & 64 79           & 0.1939697      \\\\\n",
       "\t gt2 kr1 twi2    & 54 64 79        & 0.1928205      \\\\\n",
       "\t wt\\_ZLD gt2 kr1  & 46 54 64          & 0.1894278        \\\\\n",
       "\t wt\\_ZLD          & 46                & 0.1860757        \\\\\n",
       "\t gt2 kr1         & 54 64           & 0.1812387      \\\\\n",
       "\t wt\\_H3K4me1 gt2  & 45 54             & 0.1806286        \\\\\n",
       "\\end{tabular}\n"
      ],
      "text/markdown": [
       "\n",
       "Interaction | Indices | Score | \n",
       "|---|---|---|---|---|---|---|---|---|---|---|\n",
       "| wt_ZLD kr1      | 46 64           | 0.2030967       | \n",
       "| wt_ZLD twi2     | 46 79           | 0.2017701       | \n",
       "| wt_H3K4me1 twi2 | 45 79           | 0.2002126       | \n",
       "| D1 twi2         | 50 79           | 0.1986016       | \n",
       "| D1 gt2          | 50 54           | 0.1945462       | \n",
       "| kr1 twi2        | 64 79           | 0.1939697       | \n",
       "| gt2 kr1 twi2    | 54 64 79        | 0.1928205       | \n",
       "| wt_ZLD gt2 kr1  | 46 54 64        | 0.1894278       | \n",
       "| wt_ZLD          | 46              | 0.1860757       | \n",
       "| gt2 kr1         | 54 64           | 0.1812387       | \n",
       "| wt_H3K4me1 gt2  | 45 54           | 0.1806286       | \n",
       "\n",
       "\n"
      ],
      "text/plain": [
       "   Interaction     Indices  Score    \n",
       "1  wt_ZLD kr1      46 64    0.2030967\n",
       "2  wt_ZLD twi2     46 79    0.2017701\n",
       "3  wt_H3K4me1 twi2 45 79    0.2002126\n",
       "4  D1 twi2         50 79    0.1986016\n",
       "5  D1 gt2          50 54    0.1945462\n",
       "6  kr1 twi2        64 79    0.1939697\n",
       "7  gt2 kr1 twi2    54 64 79 0.1928205\n",
       "8  wt_ZLD gt2 kr1  46 54 64 0.1894278\n",
       "9  wt_ZLD          46       0.1860757\n",
       "10 gt2 kr1         54 64    0.1812387\n",
       "11 wt_H3K4me1 gt2  45 54    0.1806286"
      ]
     },
     "metadata": {},
     "output_type": "display_data"
    }
   ],
   "source": [
    "data.frame(Interaction = index2names(names(tmp[tmp > .18]), varnames.all[[1]]), \n",
    "           Indices = names(tmp[tmp > .18]),\n",
    "           Score = unlist(tmp[tmp > .18], use.names = F)) %>% arrange(desc(Score))"
   ]
  },
  {
   "cell_type": "markdown",
   "metadata": {},
   "source": [
    "### Multi-modality gives some meaningful interactions\n",
    "'wt_ZLD gt2 kr1' appears in the list. Let's take a look at the other distributions"
   ]
  },
  {
   "cell_type": "code",
   "execution_count": 72,
   "metadata": {
    "collapsed": false
   },
   "outputs": [
    {
     "data": {
      "image/png": "[encoded data removed]",
      "text/plain": [
       "Plot with title “wt_H3K4me1 twi2”"
      ]
     },
     "metadata": {},
     "output_type": "display_data"
    },
    {
     "data": {
      "image/png": "[encoded data removed]",
      "text/plain": [
       "Plot with title “D1 twi2”"
      ]
     },
     "metadata": {},
     "output_type": "display_data"
    },
    {
     "data": {
      "image/png": "[encoded data removed]",
      "text/plain": [
       "Plot with title “D1 gt2”"
      ]
     },
     "metadata": {},
     "output_type": "display_data"
    },
    {
     "data": {
      "image/png": "[encoded data removed]",
      "text/plain": [
       "Plot with title “gt2 kr1 twi2”"
      ]
     },
     "metadata": {},
     "output_type": "display_data"
    },
    {
     "data": {
      "image/png": "[encoded data removed]",
      "text/plain": [
       "Plot with title “wt_H3K4me1 gt2”"
      ]
     },
     "metadata": {},
     "output_type": "display_data"
    }
   ],
   "source": [
    "for (to_investigate in c('45 79', '50 79', '50 54', '54 64 79', '45 54')) {\n",
    "    hist(interaction.freq[[to_investigate]], main = index2names(to_investigate, varnames.all[[1]]), xlab = 'Prevalence')\n",
    "}"
   ]
  }
 ],
 "metadata": {
  "kernelspec": {
   "display_name": "R",
   "language": "R",
   "name": "ir"
  },
  "language_info": {
   "codemirror_mode": "r",
   "file_extension": ".r",
   "mimetype": "text/x-r-source",
   "name": "R",
   "pygments_lexer": "r",
   "version": "3.3.1"
  }
 },
 "nbformat": 4,
 "nbformat_minor": 2
}
